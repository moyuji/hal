{
 "cells": [
  {
   "cell_type": "code",
   "execution_count": 8,
   "metadata": {
    "collapsed": true
   },
   "outputs": [],
   "source": [
    "import visualize\n",
    "import numpy as np"
   ]
  },
  {
   "cell_type": "code",
   "execution_count": 185,
   "metadata": {
    "collapsed": false
   },
   "outputs": [],
   "source": [
    "def get_stats(card):\n",
    "    z = visualize.get_results(card, 'dynamicRatio', 'Raw')\n",
    "    z1 = z.groupby(['fine_cost', 'fine_ratio', 'algo', 'round']).agg({'prauc':np.mean}).reset_index()\n",
    "    y1 = z1.groupby(['round', 'fine_cost']).agg({'prauc':[max, len, lambda v: tuple(sorted(v, reverse=True))]})\n",
    "\n",
    "    z2 = z1.join(y1, on=['round','fine_cost'])\n",
    "\n",
    "    z2['diff'] = z2[('prauc', 'max')] - z2['prauc']\n",
    "    z2['diff_ratio'] = (z2[('prauc', 'max')] - z2['prauc'])/z2[('prauc', 'max')]\n",
    "    z2['rank'] = [l.index(v) for (l, v) in zip(z2[('prauc', '<lambda>')] , z2['prauc'])]\n",
    "\n",
    "    x1 = z2[z2['round'] == max(z2['round'])]\n",
    "    x1.insert(0, 'algorithm', ['BANDIT' if a.startswith('bandit') else 'FFR[%.1f]' % b for (a,b) in zip(x1['algo'], x1['fine_ratio'])])\n",
    "\n",
    "    return x1.groupby(['algorithm']).agg({'diff':[min, max, np.mean, np.std], \n",
    "                                                   #'diff_ratio':[min, max, np.mean, np.std],\n",
    "                                                   'rank':[min, max, np.mean, np.std]})"
   ]
  },
  {
   "cell_type": "code",
   "execution_count": 186,
   "metadata": {
    "collapsed": false
   },
   "outputs": [
    {
     "name": "stdout",
     "output_type": "stream",
     "text": [
      "Processed result [ interval dynamicRatio ] from [ 9600000 rows 1 repeats 10 columns ] into [ 9600000 rows ]\n",
      "\\begin{tabular}{lrrrrrrrr}\n",
      "\\toprule\n",
      "{} &  diff &       &       &       & rank &     &        &       \\\\\n",
      "{} &   min &   max &  mean &   std &  min & max &   mean &   std \\\\\n",
      "\\midrule\n",
      "algorithm &       &       &       &       &      &     &        &       \\\\\n",
      "BANDIT    & 0.001 & 0.004 & 0.002 & 0.001 &    1 &   5 &  2.625 & 1.598 \\\\\n",
      "FFR[0.0]  & 0.000 & 0.016 & 0.010 & 0.006 &    0 &  11 &  8.125 & 4.549 \\\\\n",
      "FFR[0.1]  & 0.000 & 0.006 & 0.003 & 0.002 &    0 &   9 &  4.875 & 3.603 \\\\\n",
      "FFR[0.2]  & 0.000 & 0.013 & 0.004 & 0.004 &    0 &   7 &  4.000 & 2.204 \\\\\n",
      "FFR[0.3]  & 0.001 & 0.018 & 0.005 & 0.006 &    1 &   4 &  3.250 & 1.165 \\\\\n",
      "FFR[0.4]  & 0.000 & 0.024 & 0.007 & 0.008 &    1 &   8 &  4.875 & 2.357 \\\\\n",
      "FFR[0.5]  & 0.000 & 0.025 & 0.006 & 0.009 &    0 &   9 &  3.750 & 3.151 \\\\\n",
      "FFR[0.6]  & 0.000 & 0.028 & 0.008 & 0.010 &    0 &   8 &  5.250 & 3.370 \\\\\n",
      "FFR[0.7]  & 0.000 & 0.033 & 0.008 & 0.012 &    0 &   9 &  4.250 & 3.240 \\\\\n",
      "FFR[0.8]  & 0.001 & 0.030 & 0.009 & 0.011 &    1 &   9 &  6.000 & 3.251 \\\\\n",
      "FFR[0.9]  & 0.002 & 0.035 & 0.011 & 0.012 &    6 &  11 &  8.750 & 1.669 \\\\\n",
      "FFR[1.0]  & 0.005 & 0.033 & 0.013 & 0.010 &   10 &  11 & 10.250 & 0.463 \\\\\n",
      "\\bottomrule\n",
      "\\end{tabular}\n",
      "\n"
     ]
    }
   ],
   "source": [
    "print get_stats('interval').to_latex(float_format=lambda x: '%.3f' %x)"
   ]
  },
  {
   "cell_type": "code",
   "execution_count": 187,
   "metadata": {
    "collapsed": false
   },
   "outputs": [
    {
     "name": "stdout",
     "output_type": "stream",
     "text": [
      "Processed result [ RCV1 dynamicRatio ] from [ 480000 rows 1 repeats 10 columns ] into [ 480000 rows ]\n",
      "\\begin{tabular}{lrrrrrrrr}\n",
      "\\toprule\n",
      "{} &  diff &       &       &       & rank &     &        &       \\\\\n",
      "{} &   min &   max &  mean &   std &  min & max &   mean &   std \\\\\n",
      "\\midrule\n",
      "algorithm &       &       &       &       &      &     &        &       \\\\\n",
      "BANDIT    & 0.001 & 0.001 & 0.001 & 0.000 &    1 &   8 &  3.750 & 2.188 \\\\\n",
      "FFR[0.0]  & 0.009 & 0.016 & 0.014 & 0.002 &    6 &  11 & 10.375 & 1.768 \\\\\n",
      "FFR[0.1]  & 0.000 & 0.004 & 0.003 & 0.002 &    0 &  10 &  7.500 & 4.629 \\\\\n",
      "FFR[0.2]  & 0.001 & 0.004 & 0.002 & 0.001 &    1 &   9 &  6.500 & 3.381 \\\\\n",
      "FFR[0.3]  & 0.001 & 0.003 & 0.002 & 0.001 &    3 &   9 &  6.750 & 2.375 \\\\\n",
      "FFR[0.4]  & 0.001 & 0.006 & 0.003 & 0.002 &    4 &   7 &  6.125 & 1.356 \\\\\n",
      "FFR[0.5]  & 0.000 & 0.008 & 0.003 & 0.002 &    0 &   6 &  5.000 & 2.070 \\\\\n",
      "FFR[0.6]  & 0.000 & 0.011 & 0.002 & 0.003 &    3 &   7 &  4.875 & 1.356 \\\\\n",
      "FFR[0.7]  & 0.000 & 0.011 & 0.002 & 0.004 &    2 &   8 &  4.250 & 2.121 \\\\\n",
      "FFR[0.8]  & 0.000 & 0.013 & 0.002 & 0.005 &    0 &   9 &  3.000 & 3.464 \\\\\n",
      "FFR[0.9]  & 0.000 & 0.015 & 0.003 & 0.005 &    0 &  10 &  2.625 & 4.274 \\\\\n",
      "FFR[1.0]  & 0.000 & 0.016 & 0.003 & 0.006 &    1 &  11 &  5.250 & 4.062 \\\\\n",
      "\\bottomrule\n",
      "\\end{tabular}\n",
      "\n"
     ]
    }
   ],
   "source": [
    "print get_stats('RCV1').to_latex(float_format=lambda x: '%.3f' %x)"
   ]
  },
  {
   "cell_type": "code",
   "execution_count": 188,
   "metadata": {
    "collapsed": false
   },
   "outputs": [
    {
     "name": "stdout",
     "output_type": "stream",
     "text": [
      "Processed result [ richmond dynamicRatio ] from [ 57600 rows 1 repeats 10 columns ] into [ 57600 rows ]\n",
      "\\begin{tabular}{lrrrrrrrr}\n",
      "\\toprule\n",
      "{} &  diff &       &       &       & rank &     &       &       \\\\\n",
      "{} &   min &   max &  mean &   std &  min & max &  mean &   std \\\\\n",
      "\\midrule\n",
      "algorithm &       &       &       &       &      &     &       &       \\\\\n",
      "BANDIT    & 0.000 & 0.027 & 0.016 & 0.011 &    0 &   8 & 4.250 & 2.712 \\\\\n",
      "FFR[0.0]  & 0.028 & 0.162 & 0.101 & 0.056 &    4 &  11 & 9.875 & 2.475 \\\\\n",
      "FFR[0.1]  & 0.000 & 0.104 & 0.045 & 0.041 &    0 &  10 & 6.500 & 4.840 \\\\\n",
      "FFR[0.2]  & 0.000 & 0.074 & 0.035 & 0.029 &    0 &   9 & 5.750 & 3.845 \\\\\n",
      "FFR[0.3]  & 0.006 & 0.061 & 0.030 & 0.020 &    3 &   8 & 5.000 & 2.330 \\\\\n",
      "FFR[0.4]  & 0.009 & 0.050 & 0.030 & 0.016 &    2 &   8 & 6.000 & 2.138 \\\\\n",
      "FFR[0.5]  & 0.005 & 0.045 & 0.029 & 0.011 &    2 &   9 & 6.500 & 2.268 \\\\\n",
      "FFR[0.6]  & 0.002 & 0.038 & 0.019 & 0.011 &    1 &   6 & 3.875 & 1.885 \\\\\n",
      "FFR[0.7]  & 0.000 & 0.044 & 0.018 & 0.014 &    0 &   8 & 4.125 & 2.850 \\\\\n",
      "FFR[0.8]  & 0.003 & 0.052 & 0.018 & 0.015 &    1 &  11 & 4.625 & 3.114 \\\\\n",
      "FFR[0.9]  & 0.000 & 0.043 & 0.018 & 0.016 &    0 &  10 & 4.375 & 3.662 \\\\\n",
      "FFR[1.0]  & 0.000 & 0.050 & 0.019 & 0.022 &    0 &  11 & 5.125 & 5.249 \\\\\n",
      "\\bottomrule\n",
      "\\end{tabular}\n",
      "\n"
     ]
    }
   ],
   "source": [
    "print get_stats('richmond').to_latex(float_format=lambda x: '%.3f' %x)"
   ]
  },
  {
   "cell_type": "code",
   "execution_count": 145,
   "metadata": {
    "collapsed": true
   },
   "outputs": [],
   "source": [
    "def get_stats2(card):\n",
    "    z = visualize.get_results(card, 'dynamicRatio', 'Raw')\n",
    "    z1 = z.groupby(['fine_cost', 'fine_ratio', 'algo', 'round']).agg({'prauc':np.mean}).reset_index()\n",
    "    y1 = z1.groupby(['round', 'fine_cost']).agg({'prauc':[max, len, lambda v: tuple(sorted(v, reverse=True))]})\n",
    "\n",
    "    z2 = z1.join(y1, on=['round','fine_cost'])\n",
    "\n",
    "    z2['diff'] = z2[('prauc', 'max')] - z2['prauc']\n",
    "    z2['diff_ratio'] = (z2[('prauc', 'max')] - z2['prauc'])/z2[('prauc', 'max')]\n",
    "    z2['rank'] = [l.index(v) for (l, v) in zip(z2[('prauc', '<lambda>')] , z2['prauc'])]\n",
    "\n",
    "    x1 = z2\n",
    "\n",
    "    return x1.groupby(['algo', 'fine_ratio']).agg({'diff':[min, max, np.mean, np.std], \n",
    "                                                   'diff_ratio':[min, max, np.mean, np.std],\n",
    "                                                   'rank':[min, max, np.mean, np.std]})"
   ]
  },
  {
   "cell_type": "code",
   "execution_count": 148,
   "metadata": {
    "collapsed": false
   },
   "outputs": [
    {
     "name": "stdout",
     "output_type": "stream",
     "text": [
      "Processed result [ RCV1 dynamicRatio ] from [ 480000 rows 1 repeats 10 columns ] into [ 480000 rows ]\n"
     ]
    },
    {
     "data": {
      "text/html": [
       "<div>\n",
       "<table border=\"1\" class=\"dataframe\">\n",
       "  <thead>\n",
       "    <tr>\n",
       "      <th></th>\n",
       "      <th></th>\n",
       "      <th colspan=\"4\" halign=\"left\">diff</th>\n",
       "      <th colspan=\"4\" halign=\"left\">diff_ratio</th>\n",
       "      <th colspan=\"4\" halign=\"left\">rank</th>\n",
       "    </tr>\n",
       "    <tr>\n",
       "      <th></th>\n",
       "      <th></th>\n",
       "      <th>min</th>\n",
       "      <th>max</th>\n",
       "      <th>mean</th>\n",
       "      <th>std</th>\n",
       "      <th>min</th>\n",
       "      <th>max</th>\n",
       "      <th>mean</th>\n",
       "      <th>std</th>\n",
       "      <th>min</th>\n",
       "      <th>max</th>\n",
       "      <th>mean</th>\n",
       "      <th>std</th>\n",
       "    </tr>\n",
       "    <tr>\n",
       "      <th>algo</th>\n",
       "      <th>fine_ratio</th>\n",
       "      <th></th>\n",
       "      <th></th>\n",
       "      <th></th>\n",
       "      <th></th>\n",
       "      <th></th>\n",
       "      <th></th>\n",
       "      <th></th>\n",
       "      <th></th>\n",
       "      <th></th>\n",
       "      <th></th>\n",
       "      <th></th>\n",
       "      <th></th>\n",
       "    </tr>\n",
       "  </thead>\n",
       "  <tbody>\n",
       "    <tr>\n",
       "      <th>bandit_e_greedy</th>\n",
       "      <th>1.0</th>\n",
       "      <td>0.000000</td>\n",
       "      <td>0.009488</td>\n",
       "      <td>0.001436</td>\n",
       "      <td>0.001580</td>\n",
       "      <td>0.00000</td>\n",
       "      <td>0.011349</td>\n",
       "      <td>0.001673</td>\n",
       "      <td>0.001874</td>\n",
       "      <td>0</td>\n",
       "      <td>11</td>\n",
       "      <td>3.93375</td>\n",
       "      <td>2.479323</td>\n",
       "    </tr>\n",
       "    <tr>\n",
       "      <th rowspan=\"11\" valign=\"top\">fixed_fine_ratio</th>\n",
       "      <th>0.0</th>\n",
       "      <td>0.000000</td>\n",
       "      <td>0.015742</td>\n",
       "      <td>0.009461</td>\n",
       "      <td>0.005255</td>\n",
       "      <td>0.00000</td>\n",
       "      <td>0.017982</td>\n",
       "      <td>0.010848</td>\n",
       "      <td>0.005988</td>\n",
       "      <td>0</td>\n",
       "      <td>11</td>\n",
       "      <td>8.44250</td>\n",
       "      <td>4.055521</td>\n",
       "    </tr>\n",
       "    <tr>\n",
       "      <th>0.1</th>\n",
       "      <td>0.000000</td>\n",
       "      <td>0.015852</td>\n",
       "      <td>0.003171</td>\n",
       "      <td>0.002656</td>\n",
       "      <td>0.00000</td>\n",
       "      <td>0.018677</td>\n",
       "      <td>0.003660</td>\n",
       "      <td>0.003091</td>\n",
       "      <td>0</td>\n",
       "      <td>11</td>\n",
       "      <td>6.36500</td>\n",
       "      <td>4.360108</td>\n",
       "    </tr>\n",
       "    <tr>\n",
       "      <th>0.2</th>\n",
       "      <td>0.000000</td>\n",
       "      <td>0.024837</td>\n",
       "      <td>0.003621</td>\n",
       "      <td>0.003837</td>\n",
       "      <td>0.00000</td>\n",
       "      <td>0.029137</td>\n",
       "      <td>0.004195</td>\n",
       "      <td>0.004504</td>\n",
       "      <td>0</td>\n",
       "      <td>11</td>\n",
       "      <td>5.98000</td>\n",
       "      <td>3.506061</td>\n",
       "    </tr>\n",
       "    <tr>\n",
       "      <th>0.3</th>\n",
       "      <td>0.000000</td>\n",
       "      <td>0.027107</td>\n",
       "      <td>0.004112</td>\n",
       "      <td>0.004656</td>\n",
       "      <td>0.00000</td>\n",
       "      <td>0.031747</td>\n",
       "      <td>0.004769</td>\n",
       "      <td>0.005465</td>\n",
       "      <td>0</td>\n",
       "      <td>11</td>\n",
       "      <td>5.82500</td>\n",
       "      <td>2.627833</td>\n",
       "    </tr>\n",
       "    <tr>\n",
       "      <th>0.4</th>\n",
       "      <td>0.000191</td>\n",
       "      <td>0.029429</td>\n",
       "      <td>0.004583</td>\n",
       "      <td>0.005498</td>\n",
       "      <td>0.00022</td>\n",
       "      <td>0.034466</td>\n",
       "      <td>0.005320</td>\n",
       "      <td>0.006439</td>\n",
       "      <td>1</td>\n",
       "      <td>11</td>\n",
       "      <td>5.83875</td>\n",
       "      <td>1.681155</td>\n",
       "    </tr>\n",
       "    <tr>\n",
       "      <th>0.5</th>\n",
       "      <td>0.000000</td>\n",
       "      <td>0.032867</td>\n",
       "      <td>0.005088</td>\n",
       "      <td>0.006712</td>\n",
       "      <td>0.00000</td>\n",
       "      <td>0.038444</td>\n",
       "      <td>0.005910</td>\n",
       "      <td>0.007848</td>\n",
       "      <td>0</td>\n",
       "      <td>10</td>\n",
       "      <td>5.52625</td>\n",
       "      <td>1.505704</td>\n",
       "    </tr>\n",
       "    <tr>\n",
       "      <th>0.6</th>\n",
       "      <td>0.000000</td>\n",
       "      <td>0.034344</td>\n",
       "      <td>0.005141</td>\n",
       "      <td>0.007449</td>\n",
       "      <td>0.00000</td>\n",
       "      <td>0.040172</td>\n",
       "      <td>0.005975</td>\n",
       "      <td>0.008695</td>\n",
       "      <td>0</td>\n",
       "      <td>10</td>\n",
       "      <td>5.18500</td>\n",
       "      <td>1.395783</td>\n",
       "    </tr>\n",
       "    <tr>\n",
       "      <th>0.7</th>\n",
       "      <td>0.000000</td>\n",
       "      <td>0.036921</td>\n",
       "      <td>0.005446</td>\n",
       "      <td>0.008424</td>\n",
       "      <td>0.00000</td>\n",
       "      <td>0.043186</td>\n",
       "      <td>0.006334</td>\n",
       "      <td>0.009827</td>\n",
       "      <td>0</td>\n",
       "      <td>11</td>\n",
       "      <td>4.87750</td>\n",
       "      <td>2.554535</td>\n",
       "    </tr>\n",
       "    <tr>\n",
       "      <th>0.8</th>\n",
       "      <td>0.000000</td>\n",
       "      <td>0.037962</td>\n",
       "      <td>0.005641</td>\n",
       "      <td>0.009040</td>\n",
       "      <td>0.00000</td>\n",
       "      <td>0.044356</td>\n",
       "      <td>0.006563</td>\n",
       "      <td>0.010537</td>\n",
       "      <td>0</td>\n",
       "      <td>11</td>\n",
       "      <td>4.36875</td>\n",
       "      <td>3.954405</td>\n",
       "    </tr>\n",
       "    <tr>\n",
       "      <th>0.9</th>\n",
       "      <td>0.000000</td>\n",
       "      <td>0.036508</td>\n",
       "      <td>0.005677</td>\n",
       "      <td>0.009121</td>\n",
       "      <td>0.00000</td>\n",
       "      <td>0.042643</td>\n",
       "      <td>0.006603</td>\n",
       "      <td>0.010625</td>\n",
       "      <td>0</td>\n",
       "      <td>11</td>\n",
       "      <td>4.14875</td>\n",
       "      <td>4.291812</td>\n",
       "    </tr>\n",
       "    <tr>\n",
       "      <th>1.0</th>\n",
       "      <td>0.000000</td>\n",
       "      <td>0.038598</td>\n",
       "      <td>0.006287</td>\n",
       "      <td>0.009509</td>\n",
       "      <td>0.00000</td>\n",
       "      <td>0.045147</td>\n",
       "      <td>0.007307</td>\n",
       "      <td>0.011074</td>\n",
       "      <td>0</td>\n",
       "      <td>11</td>\n",
       "      <td>5.50875</td>\n",
       "      <td>4.339177</td>\n",
       "    </tr>\n",
       "  </tbody>\n",
       "</table>\n",
       "</div>"
      ],
      "text/plain": [
       "                                 diff                                \\\n",
       "                                  min       max      mean       std   \n",
       "algo             fine_ratio                                           \n",
       "bandit_e_greedy  1.0         0.000000  0.009488  0.001436  0.001580   \n",
       "fixed_fine_ratio 0.0         0.000000  0.015742  0.009461  0.005255   \n",
       "                 0.1         0.000000  0.015852  0.003171  0.002656   \n",
       "                 0.2         0.000000  0.024837  0.003621  0.003837   \n",
       "                 0.3         0.000000  0.027107  0.004112  0.004656   \n",
       "                 0.4         0.000191  0.029429  0.004583  0.005498   \n",
       "                 0.5         0.000000  0.032867  0.005088  0.006712   \n",
       "                 0.6         0.000000  0.034344  0.005141  0.007449   \n",
       "                 0.7         0.000000  0.036921  0.005446  0.008424   \n",
       "                 0.8         0.000000  0.037962  0.005641  0.009040   \n",
       "                 0.9         0.000000  0.036508  0.005677  0.009121   \n",
       "                 1.0         0.000000  0.038598  0.006287  0.009509   \n",
       "\n",
       "                            diff_ratio                               rank      \\\n",
       "                                   min       max      mean       std  min max   \n",
       "algo             fine_ratio                                                     \n",
       "bandit_e_greedy  1.0           0.00000  0.011349  0.001673  0.001874    0  11   \n",
       "fixed_fine_ratio 0.0           0.00000  0.017982  0.010848  0.005988    0  11   \n",
       "                 0.1           0.00000  0.018677  0.003660  0.003091    0  11   \n",
       "                 0.2           0.00000  0.029137  0.004195  0.004504    0  11   \n",
       "                 0.3           0.00000  0.031747  0.004769  0.005465    0  11   \n",
       "                 0.4           0.00022  0.034466  0.005320  0.006439    1  11   \n",
       "                 0.5           0.00000  0.038444  0.005910  0.007848    0  10   \n",
       "                 0.6           0.00000  0.040172  0.005975  0.008695    0  10   \n",
       "                 0.7           0.00000  0.043186  0.006334  0.009827    0  11   \n",
       "                 0.8           0.00000  0.044356  0.006563  0.010537    0  11   \n",
       "                 0.9           0.00000  0.042643  0.006603  0.010625    0  11   \n",
       "                 1.0           0.00000  0.045147  0.007307  0.011074    0  11   \n",
       "\n",
       "                                                \n",
       "                                mean       std  \n",
       "algo             fine_ratio                     \n",
       "bandit_e_greedy  1.0         3.93375  2.479323  \n",
       "fixed_fine_ratio 0.0         8.44250  4.055521  \n",
       "                 0.1         6.36500  4.360108  \n",
       "                 0.2         5.98000  3.506061  \n",
       "                 0.3         5.82500  2.627833  \n",
       "                 0.4         5.83875  1.681155  \n",
       "                 0.5         5.52625  1.505704  \n",
       "                 0.6         5.18500  1.395783  \n",
       "                 0.7         4.87750  2.554535  \n",
       "                 0.8         4.36875  3.954405  \n",
       "                 0.9         4.14875  4.291812  \n",
       "                 1.0         5.50875  4.339177  "
      ]
     },
     "execution_count": 148,
     "metadata": {},
     "output_type": "execute_result"
    }
   ],
   "source": [
    "get_stats2('RCV1')"
   ]
  },
  {
   "cell_type": "code",
   "execution_count": 155,
   "metadata": {
    "collapsed": false
   },
   "outputs": [
    {
     "name": "stdout",
     "output_type": "stream",
     "text": [
      "Processed result [ interval dynamicRatio ] from [ 9600000 rows 1 repeats 10 columns ] into [ 9600000 rows ]\n",
      "\\begin{tabular}{llrrrrrrrrrrrr}\n",
      "\\toprule\n",
      "                &     &      diff &           &           &           & diff\\_ratio &           &           &           & rank &     &         &           \\\\\n",
      "                &     &       min &       max &      mean &       std &        min &       max &      mean &       std &  min & max &    mean &       std \\\\\n",
      "\\midrule\n",
      "bandit\\_e\\_greedy & 1.0 &           &           &           &           &            &           &           &           &      &     &         &           \\\\\n",
      "fixed\\_fine\\_ratio & 0.0 &  0.000552 &  0.004157 &  0.002114 &  0.001312 &   0.000640 &  0.004835 &  0.002430 &  0.001519 &    1 &   5 &   2.625 &  1.597990 \\\\\n",
      "                & 0.1 &  0.000000 &  0.016422 &  0.010424 &  0.006124 &   0.000000 &  0.018741 &  0.011931 &  0.006993 &    0 &  11 &   8.125 &  4.549333 \\\\\n",
      "                & 0.2 &  0.000000 &  0.005630 &  0.002995 &  0.001658 &   0.000000 &  0.006425 &  0.003435 &  0.001898 &    0 &   9 &   4.875 &  3.603074 \\\\\n",
      "                & 0.3 &  0.000000 &  0.013060 &  0.003892 &  0.004019 &   0.000000 &  0.015190 &  0.004491 &  0.004682 &    0 &   7 &   4.000 &  2.203893 \\\\\n",
      "                & 0.4 &  0.000926 &  0.017702 &  0.004893 &  0.005702 &   0.001063 &  0.020590 &  0.005656 &  0.006640 &    1 &   4 &   3.250 &  1.164965 \\\\\n",
      "                & 0.5 &  0.000215 &  0.024232 &  0.006955 &  0.007704 &   0.000246 &  0.028185 &  0.008035 &  0.008971 &    1 &   8 &   4.875 &  2.356602 \\\\\n",
      "                & 0.6 &  0.000000 &  0.024978 &  0.006458 &  0.008802 &   0.000000 &  0.029053 &  0.007475 &  0.010236 &    0 &   9 &   3.750 &  3.150964 \\\\\n",
      "                & 0.7 &  0.000000 &  0.028312 &  0.008082 &  0.009756 &   0.000000 &  0.032931 &  0.009348 &  0.011348 &    0 &   8 &   5.250 &  3.370036 \\\\\n",
      "                & 0.8 &  0.000000 &  0.032880 &  0.008392 &  0.011638 &   0.000000 &  0.038244 &  0.009717 &  0.013535 &    0 &   9 &   4.250 &  3.240370 \\\\\n",
      "                & 0.9 &  0.001198 &  0.029841 &  0.009283 &  0.010665 &   0.001369 &  0.034709 &  0.010735 &  0.012402 &    1 &   9 &   6.000 &  3.251373 \\\\\n",
      "                & 1.0 &  0.002490 &  0.034787 &  0.011305 &  0.011503 &   0.002846 &  0.040462 &  0.013062 &  0.013395 &    6 &  11 &   8.750 &  1.669046 \\\\\n",
      "\\bottomrule\n",
      "\\end{tabular}\n",
      "\n"
     ]
    }
   ],
   "source": [
    "print get_stats('interval').to_latex()"
   ]
  },
  {
   "cell_type": "code",
   "execution_count": 181,
   "metadata": {
    "collapsed": false
   },
   "outputs": [
    {
     "data": {
      "text/plain": [
       "(0.48013119650467645, 0.51986880349532349)"
      ]
     },
     "execution_count": 181,
     "metadata": {},
     "output_type": "execute_result"
    }
   ],
   "source": [
    "from statsmodels.stats.proportion import proportion_confint\n",
    "proportion_confint(5, 10, 0.9)"
   ]
  },
  {
   "cell_type": "code",
   "execution_count": null,
   "metadata": {
    "collapsed": true
   },
   "outputs": [],
   "source": []
  }
 ],
 "metadata": {
  "kernelspec": {
   "display_name": "Python 2",
   "language": "python",
   "name": "python2"
  },
  "language_info": {
   "codemirror_mode": {
    "name": "ipython",
    "version": 2
   },
   "file_extension": ".py",
   "mimetype": "text/x-python",
   "name": "python",
   "nbconvert_exporter": "python",
   "pygments_lexer": "ipython2",
   "version": "2.7.9"
  }
 },
 "nbformat": 4,
 "nbformat_minor": 0
}
